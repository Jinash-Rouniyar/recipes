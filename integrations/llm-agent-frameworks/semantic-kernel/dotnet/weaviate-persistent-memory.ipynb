{
 "cells": [
  {
   "cell_type": "markdown",
   "metadata": {},
   "source": [
    "# Introduction"
   ]
  },
  {
   "cell_type": "markdown",
   "metadata": {},
   "source": [
    "This notebook shows how to replace the `VolatileMemoryStore` memory storage used in a [previous notebook](./06-memory-and-embeddings.ipynb) with a `WeaviateMemoryStore`.\n",
    "\n",
    "`WeaviateMemoryStore` is an example of a persistent (i.e. long-term) memory store backed by the Weaviate vector database."
   ]
  },
  {
   "cell_type": "markdown",
   "metadata": {},
   "source": [
    "# About Weaviate"
   ]
  },
  {
   "cell_type": "markdown",
   "metadata": {},
   "source": [
    "[Weaviate](https://weaviate.io/) is an open-source vector database designed to scale seamlessly into billions of data objects. This implementation supports hybrid search out-of-the-box (meaning it will perform better for keyword searches)."
   ]
  },
  {
   "attachments": {},
   "cell_type": "markdown",
   "metadata": {},
   "source": [
    "You can run Weaviate in 5 ways:\n",
    "\n",
    "- **SaaS** – with [Weaviate Cloud Services (WCS)](https://weaviate.io/pricing).\n",
    "\n",
    "  WCS is a fully managed service that takes care of hosting, scaling, and updating your Weaviate instance. You can try it out for free with a sandbox that lasts for 14 days.\n",
    "\n",
    "  To set up a SaaS Weaviate instance with WCS:\n",
    "\n",
    "  1.  Navigate to [Weaviate Cloud Console](https://console.weaviate.cloud/).\n",
    "  2.  Register or sign in to your WCS account.\n",
    "  3.  Create a new cluster with the following settings:\n",
    "      - `Subscription Tier` – Free sandbox for a free trial, or contact [hello@weaviate.io](mailto:hello@weaviate.io) for other options.\n",
    "      - `Cluster name` – a unique name for your cluster. The name will become part of the URL used to access this instance.\n",
    "      - `Enable Authentication?` – Enabled by default. This will generate a static API key that you can use to authenticate.\n",
    "  4.  Wait for a few minutes until your cluster is ready. You will see a green tick ✔️ when it's done. Copy your cluster URL.\n",
    "\n",
    "- **Hybrid SaaS**\n",
    "\n",
    "  > If you need to keep your data on-premise for security or compliance reasons, Weaviate also offers a Hybrid SaaS option: Weaviate runs within your cloud instances, but the cluster is managed remotely by Weaviate. This gives you the benefits of a managed service without sending data to an external party.\n",
    "\n",
    "  The Weaviate Hybrid SaaS is a custom solution. If you are interested in this option, please reach out to [hello@weaviate.io](mailto:hello@weaviate.io).\n",
    "\n",
    "- **Self-hosted** – with a Docker container\n",
    "\n",
    "  To set up a Weaviate instance with Docker:\n",
    "\n",
    "  1. [Install Docker](https://docs.docker.com/engine/install/) on your local machine if it is not already installed.\n",
    "  2. [Install the Docker Compose Plugin](https://docs.docker.com/compose/install/)\n",
    "  3. Download a `docker-compose.yml` file with this `curl` command:\n",
    "\n",
    "     ```\n",
    "     curl -o docker-compose.yml \"https://configuration.weaviate.io/v2/docker-compose/docker-compose.yml?modules=standalone&runtime=docker-compose&weaviate_version=v1.19.6\"\n",
    "     ```\n",
    "\n",
    "     Alternatively, you can use Weaviate's docker compose [configuration tool](https://weaviate.io/developers/weaviate/installation/docker-compose) to generate your own `docker-compose.yml` file.\n",
    "\n",
    "  4. Run `docker compose up -d` to spin up a Weaviate instance.\n",
    "\n",
    "     > To shut it down, run `docker compose down`.\n",
    "\n",
    "- **Self-hosted** – with a Kubernetes cluster\n",
    "\n",
    "  To configure a self-hosted instance with Kubernetes, follow Weaviate's [documentation](https://weaviate.io/developers/weaviate/installation/kubernetes).|"
   ]
  },
  {
   "cell_type": "markdown",
   "metadata": {},
   "source": [
    "# Setup"
   ]
  },
  {
   "cell_type": "code",
   "execution_count": null,
   "metadata": {
    "dotnet_interactive": {
     "language": "csharp"
    },
    "polyglot_notebook": {
     "kernelName": "csharp"
    },
    "vscode": {
     "languageId": "polyglot-notebook"
    }
   },
   "outputs": [],
   "source": [
    "#r \"nuget: Microsoft.SemanticKernel, 0.18.230725.3-preview\"\n",
    "#r \"nuget: Microsoft.SemanticKernel.Connectors.Memory.Weaviate, 0.18.230725.3-preview\"\n",
    "\n",
    "using Microsoft.SemanticKernel;\n",
    "using Microsoft.SemanticKernel.Connectors.Memory.Weaviate;\n",
    "using Microsoft.SemanticKernel.Memory;\n",
    "using Microsoft.SemanticKernel.Skills.Core;\n",
    "using Microsoft.SemanticKernel.SkillDefinition;\n",
    "using Microsoft.SemanticKernel.Orchestration;"
   ]
  },
  {
   "attachments": {},
   "cell_type": "markdown",
   "metadata": {},
   "source": [
    "First, we instantiate the Weaviate memory store. Uncomment ONE of the options below, depending on how you want to use Weaviate:\n",
    "* from a Docker instance\n",
    "* from WCS"
   ]
  },
  {
   "cell_type": "code",
   "execution_count": null,
   "metadata": {
    "dotnet_interactive": {
     "language": "csharp"
    },
    "polyglot_notebook": {
     "kernelName": "csharp"
    },
    "vscode": {
     "languageId": "polyglot-notebook"
    }
   },
   "outputs": [],
   "source": [
    "var apiKey = \"my-secret-key\";\n",
    "WeaviateMemoryStore memoryStore = new(\"http://localhost:8080/v1/\", apiKey);"
   ]
  },
  {
   "cell_type": "markdown",
   "metadata": {},
   "source": [
    "Then, we register the memory store to the kernel:"
   ]
  },
  {
   "cell_type": "code",
   "execution_count": null,
   "metadata": {
    "dotnet_interactive": {
     "language": "csharp"
    },
    "polyglot_notebook": {
     "kernelName": "csharp"
    },
    "vscode": {
     "languageId": "polyglot-notebook"
    }
   },
   "outputs": [],
   "source": [
    "var openApiKey = \"\";\n",
    "IKernel kernel = Microsoft.SemanticKernel.Kernel.Builder\n",
    "                       .WithOpenAITextCompletionService(\"text-davinci-003\", openApiKey)\n",
    "                       .WithOpenAITextEmbeddingGenerationService(\"text-embedding-ada-002\", openApiKey)\n",
    "                       .WithMemoryStorage(memoryStore)\n",
    "                       .Build();\n",
    "kernel.ImportSkill(new TextMemorySkill(kernel.Memory));"
   ]
  },
  {
   "cell_type": "markdown",
   "metadata": {},
   "source": [
    "# Manually adding memories\n"
   ]
  },
  {
   "cell_type": "markdown",
   "metadata": {},
   "source": [
    "Let's create some initial memories \"About Me\". We can add memories to our weaviate memory store by using `save_information_async`"
   ]
  },
  {
   "cell_type": "code",
   "execution_count": null,
   "metadata": {
    "dotnet_interactive": {
     "language": "csharp"
    },
    "polyglot_notebook": {
     "kernelName": "csharp"
    },
    "vscode": {
     "languageId": "polyglot-notebook"
    }
   },
   "outputs": [],
   "source": [
    "string collectionName = \"AboutMe\";"
   ]
  },
  {
   "cell_type": "code",
   "execution_count": null,
   "metadata": {
    "dotnet_interactive": {
     "language": "csharp"
    },
    "polyglot_notebook": {
     "kernelName": "csharp"
    },
    "vscode": {
     "languageId": "polyglot-notebook"
    }
   },
   "outputs": [],
   "source": [
    "async Task PopulateMemories(IKernel kernel)\n",
    "{\n",
    "    await kernel.Memory.SaveInformationAsync(collectionName, id: Guid.NewGuid().ToString(), text: \"My name is Andrea\");\n",
    "    await kernel.Memory.SaveInformationAsync(collectionName, id: Guid.NewGuid().ToString(), text: \"I currently work as a tour guide\");\n",
    "    await kernel.Memory.SaveInformationAsync(collectionName, id: Guid.NewGuid().ToString(), text: \"I've been living in Seattle since 2005\");\n",
    "    await kernel.Memory.SaveInformationAsync(collectionName, id: Guid.NewGuid().ToString(), text: \"I visited France and Italy five times since 2015\");\n",
    "    await kernel.Memory.SaveInformationAsync(collectionName, id: Guid.NewGuid().ToString(), text: \"My family is from New York\");\n",
    "}"
   ]
  },
  {
   "attachments": {},
   "cell_type": "markdown",
   "metadata": {},
   "source": [
    "Searching is done through `SearchAsync`:"
   ]
  },
  {
   "cell_type": "code",
   "execution_count": null,
   "metadata": {
    "dotnet_interactive": {
     "language": "csharp"
    },
    "polyglot_notebook": {
     "kernelName": "csharp"
    },
    "vscode": {
     "languageId": "polyglot-notebook"
    }
   },
   "outputs": [],
   "source": [
    "async Task SearchMemoryExamples(IKernel kernel)\n",
    "{\n",
    "    string[] questions = new []\n",
    "    {\n",
    "        \"what's my name\",\n",
    "        \"where do I live?\",\n",
    "        \"where's my family from?\",\n",
    "        \"where have I traveled?\",\n",
    "        \"what do I do for work\"\n",
    "    };\n",
    "    \n",
    "    foreach (var question in questions) {\n",
    "        Console.WriteLine($\"Question: {question}\");\n",
    "        var result = kernel.Memory.SearchAsync(collectionName, question, limit: 1);\n",
    "        await foreach (var item in result)\n",
    "        {\n",
    "            Console.WriteLine(\"Answer:\" + item.Metadata.Text);\n",
    "        }\n",
    "    }\n",
    "}"
   ]
  },
  {
   "cell_type": "markdown",
   "metadata": {},
   "source": [
    "Let's see the results of the functions:"
   ]
  },
  {
   "cell_type": "code",
   "execution_count": null,
   "metadata": {
    "dotnet_interactive": {
     "language": "csharp"
    },
    "polyglot_notebook": {
     "kernelName": "csharp"
    },
    "vscode": {
     "languageId": "polyglot-notebook"
    }
   },
   "outputs": [],
   "source": [
    "Console.WriteLine(\"Populating memory...\");\n",
    "await PopulateMemories(kernel);\n",
    "\n",
    "Console.WriteLine(\"Asking questions... (manually)\");\n",
    "await SearchMemoryExamples(kernel);"
   ]
  },
  {
   "cell_type": "markdown",
   "metadata": {},
   "source": [
    "Here's how to use the weaviate memory store in a chat application:"
   ]
  },
  {
   "cell_type": "code",
   "execution_count": null,
   "metadata": {
    "dotnet_interactive": {
     "language": "csharp"
    },
    "polyglot_notebook": {
     "kernelName": "csharp"
    },
    "vscode": {
     "languageId": "polyglot-notebook"
    }
   },
   "outputs": [],
   "source": [
    "async Task<Tuple<ISKFunction, SKContext>> SetupChatWithMemory(IKernel kernel)\n",
    "{\n",
    "    var prompt = @\"\"\"\n",
    "            ChatBot can have a conversation with you about any topic.\n",
    "            It can give explicit instructions or say 'I don't know' if\n",
    "            it does not have an answer.\n",
    "\n",
    "            Information about me, from previous conversations:\n",
    "            - {{$fact1}} {{recall $fact1}}\n",
    "            - {{$fact2}} {{recall $fact2}}\n",
    "            - {{$fact3}} {{recall $fact3}}\n",
    "            - {{$fact4}} {{recall $fact4}}\n",
    "            - {{$fact5}} {{recall $fact5}}\n",
    "\n",
    "            Chat:\n",
    "            {{$chat_history}}\n",
    "            User: {{$user_input}}\n",
    "            ChatBot: \"\"\".Trim();\n",
    "\n",
    "    var func = kernel.CreateSemanticFunction(prompt, maxTokens: 200, temperature: 0.8);\n",
    "    var context = kernel.CreateNewContext();\n",
    "    context[\"fact1\"] = \"what is my name?\";\n",
    "    context[\"fact2\"] = \"where do I live?\";\n",
    "    context[\"fact3\"] = \"where's my family from?\";\n",
    "    context[\"fact4\"] = \"where have I traveled?\";\n",
    "    context[\"fact5\"] = \"what do I do for work?\";\n",
    "\n",
    "    context[TextMemorySkill.CollectionParam] = collectionName;\n",
    "    context[TextMemorySkill.RelevanceParam] = \"0.8\";\n",
    "\n",
    "    context[\"chat_history\"] = \"\";\n",
    "\n",
    "    return Tuple.Create(func, context);\n",
    "}"
   ]
  },
  {
   "cell_type": "code",
   "execution_count": null,
   "metadata": {
    "dotnet_interactive": {
     "language": "csharp"
    },
    "polyglot_notebook": {
     "kernelName": "csharp"
    },
    "vscode": {
     "languageId": "polyglot-notebook"
    }
   },
   "outputs": [],
   "source": [
    "using Microsoft.DotNet.Interactive;\n",
    "\n",
    "async Task<bool> Chat(IKernel kernel, ISKFunction chatFunc, SKContext context)\n",
    "{\n",
    "    var userInput = await Microsoft.DotNet.Interactive.Kernel.GetInputAsync(\"Chat (type exit to end):\");\n",
    "    Console.WriteLine(\"User:> \" + userInput);\n",
    "    context[\"user_input\"] = userInput;\n",
    "\n",
    "    if (userInput == \"exit\") {\n",
    "        Console.WriteLine(\"Exiting chat...\");\n",
    "        return false;\n",
    "    }\n",
    "\n",
    "    var answer = await chatFunc.InvokeAsync(context);\n",
    "    context[\"chat_history\"] += $\"\\nUser:> {userInput}\\nChatBot:> {answer}\\n\";\n",
    "    Console.WriteLine(\"ChatBot:> \" + answer);\n",
    "    return true;\n",
    "}"
   ]
  },
  {
   "cell_type": "code",
   "execution_count": null,
   "metadata": {
    "dotnet_interactive": {
     "language": "csharp"
    },
    "polyglot_notebook": {
     "kernelName": "csharp"
    },
    "vscode": {
     "languageId": "polyglot-notebook"
    }
   },
   "outputs": [],
   "source": [
    "Console.WriteLine(\"Setting up a chat (with memory!)\");\n",
    "var (chat_func, context) = await SetupChatWithMemory(kernel);\n",
    "\n",
    "Console.WriteLine(\"Begin chatting (type 'exit' to exit):\\n\");\n",
    "var chatting = true;\n",
    "while (chatting)\n",
    "     chatting = await Chat(kernel, chat_func, context);"
   ]
  },
  {
   "cell_type": "markdown",
   "metadata": {},
   "source": [
    "# Adding documents to your memory"
   ]
  },
  {
   "cell_type": "markdown",
   "metadata": {},
   "source": [
    "Create a dictionary to hold some files. The key is the hyperlink to the file and the value is the file's content:"
   ]
  },
  {
   "cell_type": "code",
   "execution_count": null,
   "metadata": {
    "dotnet_interactive": {
     "language": "csharp"
    },
    "polyglot_notebook": {
     "kernelName": "csharp"
    },
    "vscode": {
     "languageId": "polyglot-notebook"
    }
   },
   "outputs": [],
   "source": [
    "Dictionary<string, string> githubFiles = new();\n",
    "githubFiles.Add(\"https://github.com/microsoft/semantic-kernel/blob/main/README.md\", \"README: Installation, getting started, and how to contribute\");\n",
    "githubFiles.Add(\"https://github.com/microsoft/semantic-kernel/blob/main/samples/notebooks/dotnet/02-running-prompts-from-file.ipynb\", \"Jupyter notebook describing how to pass prompts from a file to a semantic skill or function\");\n",
    "githubFiles.Add(\"https://github.com/microsoft/semantic-kernel/blob/main/samples/notebooks/dotnet/00-getting-started.ipynb\", \"Jupyter notebook describing how to get started with the Semantic Kernel\");\n",
    "githubFiles.Add(\"https://github.com/microsoft/semantic-kernel/tree/main/samples/skills/ChatSkill/ChatGPT\", \"Sample demonstrating how to create a chat skill interfacing with ChatGPT\");\n",
    "githubFiles.Add(\"https://github.com/microsoft/semantic-kernel/blob/main/dotnet/src/SemanticKernel/Memory/Volatile/VolatileMemoryStore.cs\", \"C# class that defines a volatile embedding store\");\n",
    "githubFiles.Add(\"https://github.com/microsoft/semantic-kernel/tree/main/samples/dotnet/KernelHttpServer/README.md\", \"README: How to set up a Semantic Kernel Service API using Azure Function Runtime v4\");\n",
    "githubFiles.Add(\"https://github.com/microsoft/semantic-kernel/tree/main/samples/apps/chat-summary-webapp-react/README.md\", \"README: README associated with a sample starter react-based chat summary webapp\");"
   ]
  },
  {
   "attachments": {},
   "cell_type": "markdown",
   "metadata": {},
   "source": [
    "Use `SaveInformationAsync` to save the file:"
   ]
  },
  {
   "cell_type": "code",
   "execution_count": null,
   "metadata": {
    "dotnet_interactive": {
     "language": "csharp"
    },
    "polyglot_notebook": {
     "kernelName": "csharp"
    },
    "vscode": {
     "languageId": "polyglot-notebook"
    }
   },
   "outputs": [],
   "source": [
    "var collectionName = \"SKGitHub\";\n",
    "Console.WriteLine(\"Adding some GitHub file URLs and their descriptions to a volatile Semantic Memory.\");\n",
    "\n",
    "foreach (var key in githubFiles.Keys) {\n",
    "    await kernel.Memory.SaveInformationAsync(collectionName, key, Guid.NewGuid().ToString(), description: githubFiles[key]);\n",
    "}"
   ]
  },
  {
   "attachments": {},
   "cell_type": "markdown",
   "metadata": {},
   "source": [
    "Use `SearchAsync` to ask a question:"
   ]
  },
  {
   "cell_type": "code",
   "execution_count": null,
   "metadata": {
    "dotnet_interactive": {
     "language": "csharp"
    },
    "polyglot_notebook": {
     "kernelName": "csharp"
    },
    "vscode": {
     "languageId": "polyglot-notebook"
    }
   },
   "outputs": [],
   "source": [
    "var ask = \"I love Jupyter notebooks, how should I get started?\";\n",
    "Console.WriteLine(\"===========================\\n\" + \"Query: \" + ask + \"\\n\");\n",
    "\n",
    "var memories = kernel.Memory.SearchAsync(collectionName, ask, limit: 7, minRelevanceScore: 0.77);\n",
    " \n",
    "await foreach (var item in memories)\n",
    "{\n",
    "    Console.WriteLine(item.Metadata.Text + \" \" + item.Metadata.Description);\n",
    "}"
   ]
  }
 ],
 "metadata": {
  "kernelspec": {
   "display_name": "Python 3 (ipykernel)",
   "language": "python",
   "name": "python3"
  },
  "language_info": {
   "codemirror_mode": {
    "name": "ipython",
    "version": 3
   },
   "file_extension": ".py",
   "mimetype": "text/x-python",
   "name": "python",
   "nbconvert_exporter": "python",
   "pygments_lexer": "ipython3",
   "version": "3.11.4"
  }
 },
 "nbformat": 4,
 "nbformat_minor": 2
}
