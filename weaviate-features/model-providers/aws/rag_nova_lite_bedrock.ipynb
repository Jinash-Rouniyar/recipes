{
  "cells": [
    {
      "cell_type": "markdown",
      "metadata": {},
      "source": [
        "[![Open In Colab](https://colab.research.google.com/assets/colab-badge.svg)](https://colab.research.google.com/github/weaviate/recipes/weaviate-features/model-providers/aws/rag_titan-text-express-v1_bedrock.ipynb)"
      ]
    },
    {
      "cell_type": "markdown",
      "metadata": {},
      "source": [
        "# RAG with AWS Nova Lite on Bedrock and Weaviate\n",
        "\n",
        "This notebook will show you how to use the dynamic RAG API to define the model provider at query time. This enables you to change between different models and model settings at query time. "
      ]
    },
    {
      "cell_type": "markdown",
      "metadata": {
        "id": "rJD9aP9eVcsT"
      },
      "source": [
        "## Dependencies"
      ]
    },
    {
      "cell_type": "code",
      "execution_count": null,
      "metadata": {},
      "outputs": [],
      "source": [
        "import weaviate\n",
        "from weaviate.classes.config import Property, DataType\n",
        "import weaviate.classes.config as wc\n",
        "from weaviate.classes.generate import GenerativeConfig\n",
        "\n",
        "import os\n",
        "import requests\n",
        "import json"
      ]
    },
    {
      "cell_type": "code",
      "execution_count": null,
      "metadata": {
        "id": "ReE5TWeXSDTe"
      },
      "outputs": [],
      "source": [
        "!pip install --quiet weaviate-client==4.16.9"
      ]
    },
    {
      "cell_type": "markdown",
      "metadata": {
        "id": "p9Mkfza_SFKM"
      },
      "source": [
        "## Step 1: Connect to Weaviate\n",
        "\n",
        "**Connect to your running Weaviate cluster (choose one option)**\n",
        "1. You can create a 14-day free sandbox on [WCD](https://console.weaviate.cloud/)\n",
        "2. [Embedded Weaviate](https://weaviate.io/developers/weaviate/installation/embedded)\n",
        "3. [Local deployment](https://weaviate.io/developers/weaviate/installation/docker-compose#starter-docker-compose-file)\n",
        "4. [Other options](https://weaviate.io/developers/weaviate/installation)"
      ]
    },
    {
      "cell_type": "markdown",
      "metadata": {},
      "source": [
        "Option 1: Weaviate Cloud"
      ]
    },
    {
      "cell_type": "code",
      "execution_count": null,
      "metadata": {
        "id": "fn9Pbq7mSGqN"
      },
      "outputs": [
        {
          "name": "stdout",
          "output_type": "stream",
          "text": [
            "True\n"
          ]
        }
      ],
      "source": [
        "WCD_URL = os.environ.get(\"WEAVIATE_URL\")  # Replace with your Weaviate cluster URL\n",
        "WCD_AUTH_KEY = os.environ.get(\"WEAVIATE_AUTH\")  # Replace with your cluster auth key\n",
        "AWS_ACCESS_KEY = os.environ.get(\"AWS_ACCESS_KEY\")  # Replace with your access key \n",
        "AWS_SECRET_KEY = os.environ.get(\"AWS_SECRET_KEY\")  # Replace with your secret key \n",
        "\n",
        "# Weaviate Cloud Deployment\n",
        "client = weaviate.connect_to_weaviate_cloud(\n",
        "    cluster_url=WCD_URL,\n",
        "    auth_credentials=weaviate.auth.AuthApiKey(WCD_AUTH_KEY),\n",
        "    headers = {\n",
        "    \"X-AWS-Access-Key\": AWS_ACCESS_KEY,\n",
        "    \"X-AWS-Secret-Key\": AWS_SECRET_KEY,\n",
        "    }\n",
        ")\n",
        "\n",
        "print(client.is_ready())"
      ]
    },
    {
      "cell_type": "markdown",
      "metadata": {},
      "source": [
        "Option 2: Weaviate Embedded"
      ]
    },
    {
      "cell_type": "code",
      "execution_count": null,
      "metadata": {},
      "outputs": [],
      "source": [
        "# client = weaviate.connect_to_embedded()\n",
        "\n",
        "# print(client.is_ready())"
      ]
    },
    {
      "cell_type": "markdown",
      "metadata": {},
      "source": [
        "Option 3: Weaviate local host"
      ]
    },
    {
      "cell_type": "code",
      "execution_count": null,
      "metadata": {},
      "outputs": [],
      "source": [
        "# client = weaviate.connect_to_local()\n",
        "\n",
        "# client.close()"
      ]
    },
    {
      "cell_type": "markdown",
      "metadata": {
        "id": "jL7QiiDjTjwl"
      },
      "source": [
        "## Create a collection\n",
        "> Collection stores your data and vector embeddings.\n",
        "\n",
        "Rather than defining the generative model provider at collection creation, we will define the provider at query time."
      ]
    },
    {
      "cell_type": "code",
      "execution_count": null,
      "metadata": {},
      "outputs": [],
      "source": [
        "# Note: in practice, you shouldn\"t rerun this cell, as it deletes your data\n",
        "# in \"JeopardyQuestion\", and then you need to re-import it again.\n",
        "\n",
        "# Delete the collection if it already exists\n",
        "if (client.collections.exists(\"JeopardyQuestion\")):\n",
        "    client.collections.delete(\"JeopardyQuestion\")\n",
        "\n",
        "client.collections.create(\n",
        "    name=\"JeopardyQuestion\",\n",
        "\n",
        "    vectorizer_config=wc.Configure.Vectorizer.text2vec_aws(\n",
        "        service=\"bedrock\",   #this is crucial\n",
        "        model=\"amazon.titan-embed-text-v2:0\", # select the model, make sure it is enabled for your account\n",
        "        region=\"us-east-1\" # select your region\n",
        "    ),\n",
        "\n",
        "    properties=[ # defining properties (data schema) is optional\n",
        "        wc.Property(name=\"Question\", data_type=wc.DataType.TEXT), \n",
        "        wc.Property(name=\"Answer\", data_type=wc.DataType.TEXT),\n",
        "        wc.Property(name=\"Category\", data_type=wc.DataType.TEXT, skip_vectorization=True), \n",
        "    ]\n",
        ")\n",
        "\n",
        "print(\"Successfully created collection: JeopardyQuestion.\")"
      ]
    },
    {
      "cell_type": "markdown",
      "metadata": {
        "id": "AiQVGMnOXs_L"
      },
      "source": [
        "## Import the Data"
      ]
    },
    {
      "cell_type": "code",
      "execution_count": null,
      "metadata": {
        "id": "Mg4k9nvLXu-7"
      },
      "outputs": [],
      "source": [
        "url = \"https://raw.githubusercontent.com/weaviate/weaviate-examples/main/jeopardy_small_dataset/jeopardy_tiny.json\"\n",
        "resp = requests.get(url)\n",
        "data = json.loads(resp.text)\n",
        "\n",
        "# Get a collection object for \"JeopardyQuestion\"\n",
        "jeopardy = client.collections.get(\"JeopardyQuestion\")\n",
        "\n",
        "# Insert data objects\n",
        "response = jeopardy.data.insert_many(data)\n",
        "\n",
        "# Note, the `data` array contains 10 objects, which is great to call insert_many with.\n",
        "# However, if you have a milion objects to insert, then you should spit them into smaller batches (i.e. 100-1000 per insert)\n",
        "\n",
        "if (response.has_errors):\n",
        "    print(response.errors)\n",
        "else:\n",
        "    print(\"Insert complete.\")"
      ]
    },
    {
      "cell_type": "markdown",
      "metadata": {
        "id": "9Yk3Hg5tXyMh"
      },
      "source": [
        "## Generative Search Queries\n",
        "\n",
        "We will define the generative model at query time. Notice how we're using two different models for each query."
      ]
    },
    {
      "cell_type": "markdown",
      "metadata": {
        "id": "7qs5NLTWX4Q0"
      },
      "source": [
        "### Single Result"
      ]
    },
    {
      "cell_type": "markdown",
      "metadata": {
        "id": "t4me1jL0fkDR"
      },
      "source": [
        "Single Result makes a generation for each individual search result. \n",
        "\n",
        "In the below example, I want to create a Facebook ad from the Jeopardy question about Elephants. "
      ]
    },
    {
      "cell_type": "code",
      "execution_count": null,
      "metadata": {},
      "outputs": [
        {
          "name": "stdout",
          "output_type": "stream",
          "text": [
            "{\n",
            " \"category\": \"ANIMALS\",\n",
            " \"question\": \"It's the only living mammal in the order Proboseidea\",\n",
            " \"answer\": \"Elephant\"\n",
            "}\n",
            "-----vvvvvv-----\n",
            "**🌟 Discover the Marvel of Nature! 🌟**\n",
            "\n",
            "🐘 Did you know there's only one living mammal in the order Proboscidea? 🐘\n",
            "\n",
            "Introducing the majestic **Elephant**! 🌿🌍\n",
            "\n",
            "🌟 From the ancient forests to modern savannas, elephants have roamed the Earth for millions of years. They are the largest land animals on our planet, known for their incredible intelligence, deep social bonds, and unique trunk that serves as a nose, a hand, and a tool for survival.\n",
            "\n",
            "🌟 Join us in celebrating these gentle giants and learn more about their fascinating lives and the importance of protecting their habitats. \n",
            "\n",
            "🌱 **Support Conservation Efforts Today!** 🌱\n",
            "\n",
            "👉 Click the link to learn more and contribute to the preservation of these incredible creatures!\n",
            "\n",
            "🔗 [Learn More & Donate] \n",
            "\n",
            "#Elephants #WildlifeConservation #NatureLovers #Proboscidea #ProtectOurPlanet\n",
            "-----^^^^^^-----\n",
            "{\n",
            " \"category\": \"ANIMALS\",\n",
            " \"question\": \"Weighing around a ton, the eland is the largest species of this animal in Africa\",\n",
            " \"answer\": \"Antelope\"\n",
            "}\n",
            "-----vvvvvv-----\n",
            "🌍🦌 Discover the Majestic Giants of Africa! 🦌🌍\n",
            "\n",
            "Are you ready to embark on an unforgettable adventure through the heart of Africa? 🌴✨\n",
            "\n",
            "🌟 Introducing the Eland - Africa's Largest Antelope! 🌟\n",
            "\n",
            "Weighing around a ton, the eland is the largest species of antelope found in the African wilderness. Imagine standing face-to-face with this magnificent creature, its majestic presence leaving you in awe!\n",
            "\n",
            "🌍 Why Choose an African Safari? 🌍\n",
            "\n",
            "🌿 Experience the breathtaking beauty of Africa's diverse landscapes, from vast savannas to lush forests.\n",
            "🦁 Encounter incredible wildlife, including lions, elephants, and giraffes, all in their natural habitat.\n",
            "🌅 Witness unforgettable sunsets and sunrises, painting the sky with vibrant colors as you witness the magic of Africa.\n",
            "\n",
            "🌟 Join us on an adventure of a lifetime and create memories that will last forever! 🌟\n",
            "\n",
            "📅 Book your African Safari now and immerse yourself in the wonders of the wild! 🌍🦌\n",
            "\n",
            "🔗 [Insert link to booking page]\n",
            "\n",
            "Don't miss out on this incredible opportunity to witness the largest antelope in Africa and so much more! 🌟🦌\n",
            "\n",
            "#AfricanSafari #WildlifeAdventure #ElandAntelope #DiscoverAfrica #UnforgettableExperiences\n",
            "-----^^^^^^-----\n"
          ]
        }
      ],
      "source": [
        "gen_provider = GenerativeConfig.aws(service=\"bedrock\", model=\"amazon.nova-lite-v1:0\", region= \"us-east-1\") # change these variables to match the model you deployed on Bedrock\n",
        "\n",
        "\n",
        "generatePrompt = \"Turn the following Jeogrady question into a Facebook Ad: {question}\"\n",
        "\n",
        "jeopardy = client.collections.get(\"JeopardyQuestion\")\n",
        "response = jeopardy.generate.near_text(\n",
        "    query=\"Elephants\",\n",
        "    limit=2,\n",
        "    single_prompt=generatePrompt,\n",
        "    generative_provider=gen_provider\n",
        ")\n",
        "\n",
        "for item in response.objects:\n",
        "    print(json.dumps(item.properties, indent=1))\n",
        "    print(\"-----vvvvvv-----\")\n",
        "    print(item.generated)\n",
        "    print(\"-----^^^^^^-----\")"
      ]
    },
    {
      "cell_type": "markdown",
      "metadata": {
        "id": "Rg1JvRTFfgla"
      },
      "source": [
        "### Grouped Result"
      ]
    },
    {
      "cell_type": "markdown",
      "metadata": {
        "id": "51RANrlhgoyh"
      },
      "source": [
        "Grouped Result generates a single response from all the search results. \n",
        "\n",
        "The below example is creating a Facebook ad from the 2 retrieved Jeoprady questions about animals. "
      ]
    },
    {
      "cell_type": "code",
      "execution_count": null,
      "metadata": {},
      "outputs": [
        {
          "name": "stdout",
          "output_type": "stream",
          "text": [
            "The questions provided are categorized under \"ANIMALS\" for several reasons:\n",
            "\n",
            "1. **Content Focus**: Each question directly pertains to a specific animal or a characteristic of an animal. The questions ask about elephants, the anatomical feature of the gavial (a type of crocodile), and antelopes, all of which are animals.\n",
            "\n",
            "2. **Biological Classification**: The first question references the biological classification of the elephant, which is a mammal in the order Proboseidea. This type of question requires knowledge of zoology and animal taxonomy.\n",
            "\n",
            "3. **Anatomical Features**: The second question discusses a specific anatomical feature of the gavial, which is a type of crocodile. This again requires knowledge about animal anatomy and differences between species.\n",
            "\n",
            "4. **Species Identification**: The third question is about the eland, a species of antelope, and its relative size compared to other antelopes in Africa. This involves knowledge of animal species and their habitats.\n",
            "\n",
            "Given these points, the categorization of these questions under \"ANIMALS\" is appropriate because they all deal with specific animals or their characteristics, making them relevant to the study and knowledge of animals.\n"
          ]
        }
      ],
      "source": [
        "gen_provider = GenerativeConfig.aws(service=\"bedrock\", model=\"amazon.nova-pro-v1:0\", region= \"us-east-1\") # change these variables to match the model you deployed on Bedrock\n",
        "\n",
        "generateTask = \"Explain why these Jeopardy questions are under the Animals category.\"\n",
        "\n",
        "jeopardy = client.collections.get(\"JeopardyQuestion\")\n",
        "response = jeopardy.generate.near_text(\n",
        "    query=\"Animals\",\n",
        "    limit=3,\n",
        "    grouped_task=generateTask,\n",
        "    generative_provider=gen_provider\n",
        ")\n",
        "\n",
        "print(response.generated)"
      ]
    }
  ],
  "metadata": {
    "colab": {
      "provenance": []
    },
    "kernelspec": {
      "display_name": ".venv",
      "language": "python",
      "name": "python3"
    },
    "language_info": {
      "codemirror_mode": {
        "name": "ipython",
        "version": 3
      },
      "file_extension": ".py",
      "mimetype": "text/x-python",
      "name": "python",
      "nbconvert_exporter": "python",
      "pygments_lexer": "ipython3",
      "version": "3.13.5"
    }
  },
  "nbformat": 4,
  "nbformat_minor": 0
}
